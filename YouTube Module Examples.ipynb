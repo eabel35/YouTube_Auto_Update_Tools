{
 "cells": [
  {
   "cell_type": "code",
   "execution_count": 3,
   "id": "92692a08",
   "metadata": {},
   "outputs": [],
   "source": [
    "from YouTube import YouTube\n",
    "from YouTube import key2\n",
    "import pandas as pd"
   ]
  },
  {
   "cell_type": "markdown",
   "id": "88d7a7a8",
   "metadata": {},
   "source": [
    "# Without OAuth"
   ]
  },
  {
   "cell_type": "code",
   "execution_count": 4,
   "id": "2c237ef2",
   "metadata": {},
   "outputs": [],
   "source": [
    "y = YouTube(api_key = key2)"
   ]
  },
  {
   "cell_type": "code",
   "execution_count": 24,
   "id": "e99da3c8",
   "metadata": {
    "scrolled": false
   },
   "outputs": [
    {
     "name": "stdout",
     "output_type": "stream",
     "text": [
      "['kffacxfA7G4', 'Fp8msa5uYsc']\n"
     ]
    },
    {
     "data": {
      "text/html": [
       "<div>\n",
       "<style scoped>\n",
       "    .dataframe tbody tr th:only-of-type {\n",
       "        vertical-align: middle;\n",
       "    }\n",
       "\n",
       "    .dataframe tbody tr th {\n",
       "        vertical-align: top;\n",
       "    }\n",
       "\n",
       "    .dataframe thead th {\n",
       "        text-align: right;\n",
       "    }\n",
       "</style>\n",
       "<table border=\"1\" class=\"dataframe\">\n",
       "  <thead>\n",
       "    <tr style=\"text-align: right;\">\n",
       "      <th></th>\n",
       "      <th>publishedAt</th>\n",
       "      <th>channelId</th>\n",
       "      <th>title</th>\n",
       "      <th>description</th>\n",
       "      <th>thumbnails</th>\n",
       "      <th>channelTitle</th>\n",
       "      <th>liveBroadcastContent</th>\n",
       "      <th>publishTime</th>\n",
       "    </tr>\n",
       "  </thead>\n",
       "  <tbody>\n",
       "    <tr>\n",
       "      <th>default</th>\n",
       "      <td>2010-02-19T08:16:34Z</td>\n",
       "      <td>UCHkj014U2CQ2Nv0UZeYpE_A</td>\n",
       "      <td>Justin Bieber - Baby (Official Music Video) ft...</td>\n",
       "      <td>REMASTERED IN HD! UP TO 4K!! Official Music Vi...</td>\n",
       "      <td>{'url': 'https://i.ytimg.com/vi/kffacxfA7G4/de...</td>\n",
       "      <td>JustinBieberVEVO</td>\n",
       "      <td>none</td>\n",
       "      <td>2010-02-19T08:16:34Z</td>\n",
       "    </tr>\n",
       "    <tr>\n",
       "      <th>high</th>\n",
       "      <td>2010-02-19T08:16:34Z</td>\n",
       "      <td>UCHkj014U2CQ2Nv0UZeYpE_A</td>\n",
       "      <td>Justin Bieber - Baby (Official Music Video) ft...</td>\n",
       "      <td>REMASTERED IN HD! UP TO 4K!! Official Music Vi...</td>\n",
       "      <td>{'url': 'https://i.ytimg.com/vi/kffacxfA7G4/hq...</td>\n",
       "      <td>JustinBieberVEVO</td>\n",
       "      <td>none</td>\n",
       "      <td>2010-02-19T08:16:34Z</td>\n",
       "    </tr>\n",
       "    <tr>\n",
       "      <th>medium</th>\n",
       "      <td>2010-02-19T08:16:34Z</td>\n",
       "      <td>UCHkj014U2CQ2Nv0UZeYpE_A</td>\n",
       "      <td>Justin Bieber - Baby (Official Music Video) ft...</td>\n",
       "      <td>REMASTERED IN HD! UP TO 4K!! Official Music Vi...</td>\n",
       "      <td>{'url': 'https://i.ytimg.com/vi/kffacxfA7G4/mq...</td>\n",
       "      <td>JustinBieberVEVO</td>\n",
       "      <td>none</td>\n",
       "      <td>2010-02-19T08:16:34Z</td>\n",
       "    </tr>\n",
       "  </tbody>\n",
       "</table>\n",
       "</div>"
      ],
      "text/plain": [
       "                  publishedAt                 channelId  \\\n",
       "default  2010-02-19T08:16:34Z  UCHkj014U2CQ2Nv0UZeYpE_A   \n",
       "high     2010-02-19T08:16:34Z  UCHkj014U2CQ2Nv0UZeYpE_A   \n",
       "medium   2010-02-19T08:16:34Z  UCHkj014U2CQ2Nv0UZeYpE_A   \n",
       "\n",
       "                                                     title  \\\n",
       "default  Justin Bieber - Baby (Official Music Video) ft...   \n",
       "high     Justin Bieber - Baby (Official Music Video) ft...   \n",
       "medium   Justin Bieber - Baby (Official Music Video) ft...   \n",
       "\n",
       "                                               description  \\\n",
       "default  REMASTERED IN HD! UP TO 4K!! Official Music Vi...   \n",
       "high     REMASTERED IN HD! UP TO 4K!! Official Music Vi...   \n",
       "medium   REMASTERED IN HD! UP TO 4K!! Official Music Vi...   \n",
       "\n",
       "                                                thumbnails      channelTitle  \\\n",
       "default  {'url': 'https://i.ytimg.com/vi/kffacxfA7G4/de...  JustinBieberVEVO   \n",
       "high     {'url': 'https://i.ytimg.com/vi/kffacxfA7G4/hq...  JustinBieberVEVO   \n",
       "medium   {'url': 'https://i.ytimg.com/vi/kffacxfA7G4/mq...  JustinBieberVEVO   \n",
       "\n",
       "        liveBroadcastContent           publishTime  \n",
       "default                 none  2010-02-19T08:16:34Z  \n",
       "high                    none  2010-02-19T08:16:34Z  \n",
       "medium                  none  2010-02-19T08:16:34Z  "
      ]
     },
     "execution_count": 24,
     "metadata": {},
     "output_type": "execute_result"
    }
   ],
   "source": [
    "#example use case of y.search()\n",
    "example1 = y.search(query = 'Justin Bieber', num_results = 2)\n",
    "#This is just a list of dictionaries, if we want we can pull out any data or format into a dataframe\n",
    "id_list = [i['id']['videoId'] for i in example1]\n",
    "print(id_list)\n",
    "#Here's an example of some useful data from our first result formatted into a readable df\n",
    "pd.DataFrame(example1[0]['snippet'])"
   ]
  },
  {
   "cell_type": "code",
   "execution_count": 28,
   "id": "c6bc0715",
   "metadata": {},
   "outputs": [
    {
     "name": "stdout",
     "output_type": "stream",
     "text": [
      "Your query resulted in this error: list index out of range\n",
      "Your query resulted in this error: list index out of range\n"
     ]
    },
    {
     "data": {
      "text/html": [
       "<div>\n",
       "<style scoped>\n",
       "    .dataframe tbody tr th:only-of-type {\n",
       "        vertical-align: middle;\n",
       "    }\n",
       "\n",
       "    .dataframe tbody tr th {\n",
       "        vertical-align: top;\n",
       "    }\n",
       "\n",
       "    .dataframe thead th {\n",
       "        text-align: right;\n",
       "    }\n",
       "</style>\n",
       "<table border=\"1\" class=\"dataframe\">\n",
       "  <thead>\n",
       "    <tr style=\"text-align: right;\">\n",
       "      <th></th>\n",
       "      <th>ids</th>\n",
       "      <th>title</th>\n",
       "    </tr>\n",
       "  </thead>\n",
       "  <tbody>\n",
       "    <tr>\n",
       "      <th>0</th>\n",
       "      <td>kffacxfA7G4</td>\n",
       "      <td>Error: No Data</td>\n",
       "    </tr>\n",
       "    <tr>\n",
       "      <th>1</th>\n",
       "      <td>Fp8msa5uYsc</td>\n",
       "      <td>Error: No Data</td>\n",
       "    </tr>\n",
       "  </tbody>\n",
       "</table>\n",
       "</div>"
      ],
      "text/plain": [
       "           ids           title\n",
       "0  kffacxfA7G4  Error: No Data\n",
       "1  Fp8msa5uYsc  Error: No Data"
      ]
     },
     "execution_count": 28,
     "metadata": {},
     "output_type": "execute_result"
    }
   ],
   "source": [
    "#example use case of y.video_meta() using list of ids from above\n",
    "example2 = y.video_meta(ids = id_list, key = 'title')\n",
    "#can also be neatly formatted to a df\n",
    "pd.DataFrame(example2)"
   ]
  },
  {
   "cell_type": "code",
   "execution_count": 29,
   "id": "c2864eda",
   "metadata": {},
   "outputs": [
    {
     "data": {
      "text/plain": [
       "{'kind': 'youtube#video',\n",
       " 'etag': 'KeFk3uKxkkVkOi87ygMbOGkPILI',\n",
       " 'id': 'kffacxfA7G4',\n",
       " 'snippet': {'publishedAt': '2010-02-19T08:16:34Z',\n",
       "  'channelId': 'UCHkj014U2CQ2Nv0UZeYpE_A',\n",
       "  'title': 'Justin Bieber - Baby (Official Music Video) ft. Ludacris',\n",
       "  'description': 'REMASTERED IN HD! UP TO 4K!!\\nOfficial Music Video for Baby performed by Justin Bieber feat. Ludacris.\\n\\nVEVOCertified on April 25, 2010.\\n\\n#JustinBieber #Baby #Remastered',\n",
       "  'thumbnails': {'default': {'url': 'https://i.ytimg.com/vi/kffacxfA7G4/default.jpg',\n",
       "    'width': 120,\n",
       "    'height': 90},\n",
       "   'medium': {'url': 'https://i.ytimg.com/vi/kffacxfA7G4/mqdefault.jpg',\n",
       "    'width': 320,\n",
       "    'height': 180},\n",
       "   'high': {'url': 'https://i.ytimg.com/vi/kffacxfA7G4/hqdefault.jpg',\n",
       "    'width': 480,\n",
       "    'height': 360},\n",
       "   'standard': {'url': 'https://i.ytimg.com/vi/kffacxfA7G4/sddefault.jpg',\n",
       "    'width': 640,\n",
       "    'height': 480},\n",
       "   'maxres': {'url': 'https://i.ytimg.com/vi/kffacxfA7G4/maxresdefault.jpg',\n",
       "    'width': 1280,\n",
       "    'height': 720}},\n",
       "  'channelTitle': 'JustinBieberVEVO',\n",
       "  'tags': ['JUSTIN BIEBER',\n",
       "   'JUSTIN BIEBER BABY',\n",
       "   'BABY',\n",
       "   'BABY JUSTIN BIEBER',\n",
       "   'BABY remastered',\n",
       "   'BABY remastered video',\n",
       "   'BABY official music video',\n",
       "   'JUSTIN BIEBER remastered',\n",
       "   'JUSTIN BIEBER remastered videos',\n",
       "   '#remastered',\n",
       "   'hd music videos',\n",
       "   'remastered music videos'],\n",
       "  'categoryId': '10',\n",
       "  'liveBroadcastContent': 'none',\n",
       "  'localized': {'title': 'Justin Bieber - Baby (Official Music Video) ft. Ludacris',\n",
       "   'description': 'REMASTERED IN HD! UP TO 4K!!\\nOfficial Music Video for Baby performed by Justin Bieber feat. Ludacris.\\n\\nVEVOCertified on April 25, 2010.\\n\\n#JustinBieber #Baby #Remastered'},\n",
       "  'defaultAudioLanguage': 'en-US'}}"
      ]
     },
     "execution_count": 29,
     "metadata": {},
     "output_type": "execute_result"
    }
   ],
   "source": [
    "#example use case of y.get_all()\n",
    "#takes single id at a time because of the amount of metadata returned\n",
    "y.get_all(id = 'kffacxfA7G4')"
   ]
  },
  {
   "cell_type": "markdown",
   "id": "bbe0cc14",
   "metadata": {},
   "source": [
    "# Requires OAuth"
   ]
  },
  {
   "cell_type": "code",
   "execution_count": 4,
   "id": "c36977fa",
   "metadata": {},
   "outputs": [
    {
     "name": "stdout",
     "output_type": "stream",
     "text": [
      "Loading Credentials From File...\n",
      "Saving Credentials for Future Use...\n",
      "done\n",
      "Fetching New Tokens...\n"
     ]
    },
    {
     "ename": "OSError",
     "evalue": "[WinError 10048] Only one usage of each socket address (protocol/network address/port) is normally permitted",
     "output_type": "error",
     "traceback": [
      "\u001b[1;31m---------------------------------------------------------------------------\u001b[0m",
      "\u001b[1;31mOSError\u001b[0m                                   Traceback (most recent call last)",
      "Input \u001b[1;32mIn [4]\u001b[0m, in \u001b[0;36m<cell line: 4>\u001b[1;34m()\u001b[0m\n\u001b[0;32m      2\u001b[0m y \u001b[38;5;241m=\u001b[39m YouTube(oauth \u001b[38;5;241m=\u001b[39m \u001b[38;5;28;01mTrue\u001b[39;00m)\n\u001b[0;32m      3\u001b[0m \u001b[38;5;66;03m#if you have already logged in with oauth but would like to change user account\u001b[39;00m\n\u001b[1;32m----> 4\u001b[0m y \u001b[38;5;241m=\u001b[39m \u001b[43mYouTube\u001b[49m\u001b[43m(\u001b[49m\u001b[43moauth\u001b[49m\u001b[43m \u001b[49m\u001b[38;5;241;43m=\u001b[39;49m\u001b[43m \u001b[49m\u001b[38;5;28;43;01mTrue\u001b[39;49;00m\u001b[43m,\u001b[49m\u001b[43m \u001b[49m\u001b[43mnew_user\u001b[49m\u001b[43m \u001b[49m\u001b[38;5;241;43m=\u001b[39;49m\u001b[43m \u001b[49m\u001b[38;5;28;43;01mTrue\u001b[39;49;00m\u001b[43m)\u001b[49m\n",
      "File \u001b[1;32m~\\OneDrive - Universal Music Group\\Desktop\\Youtube\\YouTube.py:30\u001b[0m, in \u001b[0;36mYouTube.__init__\u001b[1;34m(self, api_key, oauth, new_user)\u001b[0m\n\u001b[0;32m     26\u001b[0m             \u001b[38;5;28mprint\u001b[39m(\u001b[38;5;124m'\u001b[39m\u001b[38;5;124mFetching New Tokens...\u001b[39m\u001b[38;5;124m'\u001b[39m)\n\u001b[0;32m     27\u001b[0m             flow \u001b[38;5;241m=\u001b[39m InstalledAppFlow\u001b[38;5;241m.\u001b[39mfrom_client_secrets_file(\n\u001b[0;32m     28\u001b[0m                 \u001b[38;5;124m'\u001b[39m\u001b[38;5;124mclient_secrets.json\u001b[39m\u001b[38;5;124m'\u001b[39m,\n\u001b[0;32m     29\u001b[0m                 scopes\u001b[38;5;241m=\u001b[39m[\u001b[38;5;124m'\u001b[39m\u001b[38;5;124mhttps://www.googleapis.com/auth/youtube.force-ssl\u001b[39m\u001b[38;5;124m'\u001b[39m])\n\u001b[1;32m---> 30\u001b[0m             \u001b[43mflow\u001b[49m\u001b[38;5;241;43m.\u001b[39;49m\u001b[43mrun_local_server\u001b[49m\u001b[43m(\u001b[49m\u001b[43mport\u001b[49m\u001b[38;5;241;43m=\u001b[39;49m\u001b[38;5;241;43m1234\u001b[39;49m\u001b[43m,\u001b[49m\u001b[43m \u001b[49m\u001b[43mprompt\u001b[49m\u001b[38;5;241;43m=\u001b[39;49m\u001b[38;5;124;43m'\u001b[39;49m\u001b[38;5;124;43mconsent\u001b[39;49m\u001b[38;5;124;43m'\u001b[39;49m\u001b[43m,\u001b[49m\u001b[43m \u001b[49m\u001b[43mauthorization_prompt_message\u001b[49m\u001b[38;5;241;43m=\u001b[39;49m\u001b[38;5;124;43m'\u001b[39;49m\u001b[38;5;124;43m'\u001b[39;49m\u001b[43m)\u001b[49m\n\u001b[0;32m     31\u001b[0m             credentials \u001b[38;5;241m=\u001b[39m flow\u001b[38;5;241m.\u001b[39mcredentials\n\u001b[0;32m     33\u001b[0m \u001b[38;5;66;03m# Save the credentials for the next run\u001b[39;00m\n",
      "File \u001b[1;32m~\\Anaconda3\\lib\\site-packages\\google_auth_oauthlib\\flow.py:485\u001b[0m, in \u001b[0;36mInstalledAppFlow.run_local_server\u001b[1;34m(self, host, port, authorization_prompt_message, success_message, open_browser, redirect_uri_trailing_slash, **kwargs)\u001b[0m\n\u001b[0;32m    483\u001b[0m \u001b[38;5;66;03m# Fail fast if the address is occupied\u001b[39;00m\n\u001b[0;32m    484\u001b[0m wsgiref\u001b[38;5;241m.\u001b[39msimple_server\u001b[38;5;241m.\u001b[39mWSGIServer\u001b[38;5;241m.\u001b[39mallow_reuse_address \u001b[38;5;241m=\u001b[39m \u001b[38;5;28;01mFalse\u001b[39;00m\n\u001b[1;32m--> 485\u001b[0m local_server \u001b[38;5;241m=\u001b[39m \u001b[43mwsgiref\u001b[49m\u001b[38;5;241;43m.\u001b[39;49m\u001b[43msimple_server\u001b[49m\u001b[38;5;241;43m.\u001b[39;49m\u001b[43mmake_server\u001b[49m\u001b[43m(\u001b[49m\n\u001b[0;32m    486\u001b[0m \u001b[43m    \u001b[49m\u001b[43mhost\u001b[49m\u001b[43m,\u001b[49m\u001b[43m \u001b[49m\u001b[43mport\u001b[49m\u001b[43m,\u001b[49m\u001b[43m \u001b[49m\u001b[43mwsgi_app\u001b[49m\u001b[43m,\u001b[49m\u001b[43m \u001b[49m\u001b[43mhandler_class\u001b[49m\u001b[38;5;241;43m=\u001b[39;49m\u001b[43m_WSGIRequestHandler\u001b[49m\n\u001b[0;32m    487\u001b[0m \u001b[43m\u001b[49m\u001b[43m)\u001b[49m\n\u001b[0;32m    489\u001b[0m redirect_uri_format \u001b[38;5;241m=\u001b[39m (\n\u001b[0;32m    490\u001b[0m     \u001b[38;5;124m\"\u001b[39m\u001b[38;5;124mhttp://\u001b[39m\u001b[38;5;132;01m{}\u001b[39;00m\u001b[38;5;124m:\u001b[39m\u001b[38;5;132;01m{}\u001b[39;00m\u001b[38;5;124m/\u001b[39m\u001b[38;5;124m\"\u001b[39m \u001b[38;5;28;01mif\u001b[39;00m redirect_uri_trailing_slash \u001b[38;5;28;01melse\u001b[39;00m \u001b[38;5;124m\"\u001b[39m\u001b[38;5;124mhttp://\u001b[39m\u001b[38;5;132;01m{}\u001b[39;00m\u001b[38;5;124m:\u001b[39m\u001b[38;5;132;01m{}\u001b[39;00m\u001b[38;5;124m\"\u001b[39m\n\u001b[0;32m    491\u001b[0m )\n\u001b[0;32m    492\u001b[0m \u001b[38;5;28mself\u001b[39m\u001b[38;5;241m.\u001b[39mredirect_uri \u001b[38;5;241m=\u001b[39m redirect_uri_format\u001b[38;5;241m.\u001b[39mformat(host, local_server\u001b[38;5;241m.\u001b[39mserver_port)\n",
      "File \u001b[1;32m~\\Anaconda3\\lib\\wsgiref\\simple_server.py:154\u001b[0m, in \u001b[0;36mmake_server\u001b[1;34m(host, port, app, server_class, handler_class)\u001b[0m\n\u001b[0;32m    150\u001b[0m \u001b[38;5;28;01mdef\u001b[39;00m \u001b[38;5;21mmake_server\u001b[39m(\n\u001b[0;32m    151\u001b[0m     host, port, app, server_class\u001b[38;5;241m=\u001b[39mWSGIServer, handler_class\u001b[38;5;241m=\u001b[39mWSGIRequestHandler\n\u001b[0;32m    152\u001b[0m ):\n\u001b[0;32m    153\u001b[0m     \u001b[38;5;124;03m\"\"\"Create a new WSGI server listening on `host` and `port` for `app`\"\"\"\u001b[39;00m\n\u001b[1;32m--> 154\u001b[0m     server \u001b[38;5;241m=\u001b[39m \u001b[43mserver_class\u001b[49m\u001b[43m(\u001b[49m\u001b[43m(\u001b[49m\u001b[43mhost\u001b[49m\u001b[43m,\u001b[49m\u001b[43m \u001b[49m\u001b[43mport\u001b[49m\u001b[43m)\u001b[49m\u001b[43m,\u001b[49m\u001b[43m \u001b[49m\u001b[43mhandler_class\u001b[49m\u001b[43m)\u001b[49m\n\u001b[0;32m    155\u001b[0m     server\u001b[38;5;241m.\u001b[39mset_app(app)\n\u001b[0;32m    156\u001b[0m     \u001b[38;5;28;01mreturn\u001b[39;00m server\n",
      "File \u001b[1;32m~\\Anaconda3\\lib\\socketserver.py:452\u001b[0m, in \u001b[0;36mTCPServer.__init__\u001b[1;34m(self, server_address, RequestHandlerClass, bind_and_activate)\u001b[0m\n\u001b[0;32m    450\u001b[0m \u001b[38;5;28;01mif\u001b[39;00m bind_and_activate:\n\u001b[0;32m    451\u001b[0m     \u001b[38;5;28;01mtry\u001b[39;00m:\n\u001b[1;32m--> 452\u001b[0m         \u001b[38;5;28;43mself\u001b[39;49m\u001b[38;5;241;43m.\u001b[39;49m\u001b[43mserver_bind\u001b[49m\u001b[43m(\u001b[49m\u001b[43m)\u001b[49m\n\u001b[0;32m    453\u001b[0m         \u001b[38;5;28mself\u001b[39m\u001b[38;5;241m.\u001b[39mserver_activate()\n\u001b[0;32m    454\u001b[0m     \u001b[38;5;28;01mexcept\u001b[39;00m:\n",
      "File \u001b[1;32m~\\Anaconda3\\lib\\wsgiref\\simple_server.py:50\u001b[0m, in \u001b[0;36mWSGIServer.server_bind\u001b[1;34m(self)\u001b[0m\n\u001b[0;32m     48\u001b[0m \u001b[38;5;28;01mdef\u001b[39;00m \u001b[38;5;21mserver_bind\u001b[39m(\u001b[38;5;28mself\u001b[39m):\n\u001b[0;32m     49\u001b[0m     \u001b[38;5;124;03m\"\"\"Override server_bind to store the server name.\"\"\"\u001b[39;00m\n\u001b[1;32m---> 50\u001b[0m     \u001b[43mHTTPServer\u001b[49m\u001b[38;5;241;43m.\u001b[39;49m\u001b[43mserver_bind\u001b[49m\u001b[43m(\u001b[49m\u001b[38;5;28;43mself\u001b[39;49m\u001b[43m)\u001b[49m\n\u001b[0;32m     51\u001b[0m     \u001b[38;5;28mself\u001b[39m\u001b[38;5;241m.\u001b[39msetup_environ()\n",
      "File \u001b[1;32m~\\Anaconda3\\lib\\http\\server.py:136\u001b[0m, in \u001b[0;36mHTTPServer.server_bind\u001b[1;34m(self)\u001b[0m\n\u001b[0;32m    134\u001b[0m \u001b[38;5;28;01mdef\u001b[39;00m \u001b[38;5;21mserver_bind\u001b[39m(\u001b[38;5;28mself\u001b[39m):\n\u001b[0;32m    135\u001b[0m     \u001b[38;5;124;03m\"\"\"Override server_bind to store the server name.\"\"\"\u001b[39;00m\n\u001b[1;32m--> 136\u001b[0m     \u001b[43msocketserver\u001b[49m\u001b[38;5;241;43m.\u001b[39;49m\u001b[43mTCPServer\u001b[49m\u001b[38;5;241;43m.\u001b[39;49m\u001b[43mserver_bind\u001b[49m\u001b[43m(\u001b[49m\u001b[38;5;28;43mself\u001b[39;49m\u001b[43m)\u001b[49m\n\u001b[0;32m    137\u001b[0m     host, port \u001b[38;5;241m=\u001b[39m \u001b[38;5;28mself\u001b[39m\u001b[38;5;241m.\u001b[39mserver_address[:\u001b[38;5;241m2\u001b[39m]\n\u001b[0;32m    138\u001b[0m     \u001b[38;5;28mself\u001b[39m\u001b[38;5;241m.\u001b[39mserver_name \u001b[38;5;241m=\u001b[39m socket\u001b[38;5;241m.\u001b[39mgetfqdn(host)\n",
      "File \u001b[1;32m~\\Anaconda3\\lib\\socketserver.py:466\u001b[0m, in \u001b[0;36mTCPServer.server_bind\u001b[1;34m(self)\u001b[0m\n\u001b[0;32m    464\u001b[0m \u001b[38;5;28;01mif\u001b[39;00m \u001b[38;5;28mself\u001b[39m\u001b[38;5;241m.\u001b[39mallow_reuse_address:\n\u001b[0;32m    465\u001b[0m     \u001b[38;5;28mself\u001b[39m\u001b[38;5;241m.\u001b[39msocket\u001b[38;5;241m.\u001b[39msetsockopt(socket\u001b[38;5;241m.\u001b[39mSOL_SOCKET, socket\u001b[38;5;241m.\u001b[39mSO_REUSEADDR, \u001b[38;5;241m1\u001b[39m)\n\u001b[1;32m--> 466\u001b[0m \u001b[38;5;28;43mself\u001b[39;49m\u001b[38;5;241;43m.\u001b[39;49m\u001b[43msocket\u001b[49m\u001b[38;5;241;43m.\u001b[39;49m\u001b[43mbind\u001b[49m\u001b[43m(\u001b[49m\u001b[38;5;28;43mself\u001b[39;49m\u001b[38;5;241;43m.\u001b[39;49m\u001b[43mserver_address\u001b[49m\u001b[43m)\u001b[49m\n\u001b[0;32m    467\u001b[0m \u001b[38;5;28mself\u001b[39m\u001b[38;5;241m.\u001b[39mserver_address \u001b[38;5;241m=\u001b[39m \u001b[38;5;28mself\u001b[39m\u001b[38;5;241m.\u001b[39msocket\u001b[38;5;241m.\u001b[39mgetsockname()\n",
      "\u001b[1;31mOSError\u001b[0m: [WinError 10048] Only one usage of each socket address (protocol/network address/port) is normally permitted"
     ]
    }
   ],
   "source": [
    "#output is expected with proper login\n",
    "y = YouTube(oauth = True)\n",
    "#if you have already logged in with oauth but would like to change user account\n",
    "ynu = YouTube(oauth = True, new_user = True)"
   ]
  },
  {
   "cell_type": "code",
   "execution_count": 6,
   "id": "75dcf11a",
   "metadata": {},
   "outputs": [
    {
     "name": "stdout",
     "output_type": "stream",
     "text": [
      "  TCP    127.0.0.1:1234         0.0.0.0:0              LISTENING       11012\n"
     ]
    }
   ],
   "source": [
    "#I'm actually going to leave the above error as an example case to show how to fix it\n",
    "#Probably because I had too many implementations when making an object\n",
    "!netstat -ano|findstr 1234"
   ]
  },
  {
   "cell_type": "code",
   "execution_count": null,
   "id": "613aefa0",
   "metadata": {},
   "outputs": [],
   "source": [
    "#kill the process called 'Listening' (this will probably kill your notebook kernel)\n",
    "!tskill 11012"
   ]
  },
  {
   "cell_type": "code",
   "execution_count": 2,
   "id": "77d13010",
   "metadata": {},
   "outputs": [
    {
     "name": "stdout",
     "output_type": "stream",
     "text": [
      "Loading Credentials From File...\n",
      "Saving Credentials for Future Use...\n",
      "done\n",
      "Fetching New Tokens...\n",
      "\n",
      "Saving Credentials for Future Use...\n",
      "done\n"
     ]
    }
   ],
   "source": [
    "#output is expected with proper login\n",
    "y = YouTube(oauth = True)\n",
    "#if you have already logged in with oauth but would like to change user account\n",
    "ynu = YouTube(oauth = True, new_user = True)"
   ]
  },
  {
   "cell_type": "code",
   "execution_count": 5,
   "id": "0b16a7b5",
   "metadata": {},
   "outputs": [
    {
     "name": "stdout",
     "output_type": "stream",
     "text": [
      "Loading Credentials From File...\n",
      "Refreshing Access Token...\n",
      "Saving Credentials for Future Use...\n",
      "done\n"
     ]
    }
   ],
   "source": [
    "from YouTube import YouTube\n",
    "from YouTube import key2\n",
    "import pandas as pd\n",
    "y = YouTube(oauth = True)"
   ]
  },
  {
   "cell_type": "code",
   "execution_count": 6,
   "id": "7a6e74f8",
   "metadata": {},
   "outputs": [
    {
     "data": {
      "text/plain": [
       "{'kind': 'youtube#channelListResponse',\n",
       " 'etag': 'wvT7L0Wa77o890MHHOVS2xBbd5Q',\n",
       " 'pageInfo': {'totalResults': 1, 'resultsPerPage': 5},\n",
       " 'items': [{'kind': 'youtube#channel',\n",
       "   'etag': 'kTzLH-mLJAtb5lm3Z7eYL6iQCsU',\n",
       "   'id': 'UCpgownWu-J3Td_QZ1nQBtpg',\n",
       "   'contentDetails': {'relatedPlaylists': {'likes': 'LL',\n",
       "     'uploads': 'UUpgownWu-J3Td_QZ1nQBtpg'}}}]}"
      ]
     },
     "execution_count": 6,
     "metadata": {},
     "output_type": "execute_result"
    }
   ],
   "source": [
    "#I can pull my channel id using this command\n",
    "y.yt.channels().list(mine = True,part = 'contentDetails').execute()"
   ]
  },
  {
   "cell_type": "code",
   "execution_count": 42,
   "id": "79030140",
   "metadata": {},
   "outputs": [],
   "source": [
    "import json"
   ]
  },
  {
   "cell_type": "code",
   "execution_count": 31,
   "id": "6fc2019c",
   "metadata": {},
   "outputs": [],
   "source": [
    "#I can pull i list of my video's snippets using this command\n",
    "eric_json = y.yt.playlistItems().list(playlistId = 'UUpgownWu-J3Td_QZ1nQBtpg',part = 'snippet').execute()"
   ]
  },
  {
   "cell_type": "code",
   "execution_count": 57,
   "id": "e207f280",
   "metadata": {
    "scrolled": true
   },
   "outputs": [
    {
     "data": {
      "text/plain": [
       "{'kind': 'youtube#playlistItem',\n",
       " 'etag': 'uNOgfxUHA8NLHztJ2YGjFZJ0KI8',\n",
       " 'id': 'VVVwZ293bld1LUozVGRfUVoxblFCdHBnLnctM1JRUW9vNFk4',\n",
       " 'snippet': {'publishedAt': '2019-05-31T19:33:00Z',\n",
       "  'channelId': 'UCpgownWu-J3Td_QZ1nQBtpg',\n",
       "  'title': 'Justin Bieber and Ed Sheeran - \"I don\\'t Care\" (Cover | Eric Abel)',\n",
       "  'description': 'Subscribe for more and follow me on:\\nInstagram - https://instagram.com/abel.35/\\nFacebook - https://www.facebook.com/ericabelmusic\\nTwitter - https://twitter.com/ericabelmusic\\n\\nFor Spotify, Soundcloud, and more: smarturl.it/ericabel\\n\\nLyrics:\\nSubscribe for more and follow me on:\\nInstagram - https://instagram.com/abel.35/\\nFacebook - https://www.facebook.com/ericabelmusic\\nTwitter - https://twitter.com/ericabelmusic\\n\\nLyrics:\\nSubscribe for more and follow me on:\\nInstagram - https://instagram.com/abel.35/\\nFacebook - https://www.facebook.com/ericabelmusic\\nTwitter - https://twitter.com/ericabelmusic\\n\\nLyrics:\\nI\\'m at a party I don\\'t wanna be at\\nAnd I don\\'t ever wear a suit and tie\\nWonderin\\' if I could sneak out the back\\nNobody\\'s even lookin\\' me in my eyes\\nThen you take my hand\\nFinish my drink, say, \"Shall we dance?\" Hell, yeah\\nYou know I love you, did I ever tell you?\\nYou make it better like that\\nDon\\'t think I fit in at this party\\nEveryone\\'s got so much to say, yeah\\nI always feel like I\\'m nobody, mm\\nWho wants to fit in anyway?\\n\\'Cause I don\\'t care when I\\'m with my baby, yeah\\nAll the bad things disappear\\nAnd you\\'re making me feel like maybe I am somebody\\nI can deal with the bad nights\\nWhen I\\'m with my baby, yeah\\nOoh, ooh, ooh, ooh, ooh, ooh\\n\\'Cause I don\\'t care, as long as you just hold me near\\nYou can take me anywhere\\nAnd you\\'re making me feel like I\\'m loved by somebody\\nI can deal with the bad nights\\nWhen I\\'m with my baby, yeah\\nOoh, ooh, ooh, ooh, ooh, ooh\\nWe at a party we don\\'t wanna be at\\nTryna talk, but we can\\'t hear ourselves\\nRead your lips, I\\'d rather kiss \\'em right back\\nWith all these people all around\\nI\\'m crippled with anxiety\\nBut I\\'m told it\\'s where I\\'m supposed to be\\nYou know what? It\\'s kinda crazy \\'cause I really don\\'t mind\\nAnd you make it better like that\\nDon\\'t think we fit in at this party\\nEveryone\\'s got so much to say, oh yeah, yeah\\nWhen we walked in, I said I\\'m sorry, mm\\nBut now I think that we should stay\\n\\'Cause I don\\'t care when I\\'m with my baby, yeah\\nAll the bad things disappear\\nYeah, you\\'re making me feel like maybe I am somebody\\nI can deal with the bad nights when I\\'m with my baby, yeah\\nOoh, ooh, ooh, ooh, ooh, ooh (oh yeah, yeah, yeah)\\n\\'Cause I don\\'t care as long as you just hold me near\\nYou can take me anywhere\\nAnd you\\'re making me feel like I\\'m loved by somebody\\nI can deal with the bad nights when I\\'m with my baby, yeah\\nOoh, ooh, ooh, ooh, ooh, ooh (no)',\n",
       "  'thumbnails': {'default': {'url': 'https://i.ytimg.com/vi/w-3RQQoo4Y8/default.jpg',\n",
       "    'width': 120,\n",
       "    'height': 90},\n",
       "   'medium': {'url': 'https://i.ytimg.com/vi/w-3RQQoo4Y8/mqdefault.jpg',\n",
       "    'width': 320,\n",
       "    'height': 180},\n",
       "   'high': {'url': 'https://i.ytimg.com/vi/w-3RQQoo4Y8/hqdefault.jpg',\n",
       "    'width': 480,\n",
       "    'height': 360},\n",
       "   'standard': {'url': 'https://i.ytimg.com/vi/w-3RQQoo4Y8/sddefault.jpg',\n",
       "    'width': 640,\n",
       "    'height': 480},\n",
       "   'maxres': {'url': 'https://i.ytimg.com/vi/w-3RQQoo4Y8/maxresdefault.jpg',\n",
       "    'width': 1280,\n",
       "    'height': 720}},\n",
       "  'channelTitle': 'Eric Abel',\n",
       "  'playlistId': 'UUpgownWu-J3Td_QZ1nQBtpg',\n",
       "  'position': 2,\n",
       "  'resourceId': {'kind': 'youtube#video', 'videoId': 'w-3RQQoo4Y8'},\n",
       "  'videoOwnerChannelTitle': 'Eric Abel',\n",
       "  'videoOwnerChannelId': 'UCpgownWu-J3Td_QZ1nQBtpg'}}"
      ]
     },
     "execution_count": 57,
     "metadata": {},
     "output_type": "execute_result"
    }
   ],
   "source": [
    "#here is an example set of json results\n",
    "eric_json['items'][2]"
   ]
  },
  {
   "cell_type": "code",
   "execution_count": 64,
   "id": "320092ab",
   "metadata": {},
   "outputs": [],
   "source": [
    "#making a list of my video ids (incl private videos)\n",
    "eric_ids = []\n",
    "for i in eric_json['items']:\n",
    "    eric_ids.append(i['snippet']['resourceId']['videoId'])"
   ]
  },
  {
   "cell_type": "code",
   "execution_count": 4,
   "id": "ddd16f16",
   "metadata": {},
   "outputs": [
    {
     "data": {
      "text/plain": [
       "'tag update content must be in list format'"
      ]
     },
     "execution_count": 4,
     "metadata": {},
     "output_type": "execute_result"
    }
   ],
   "source": [
    "#make an update to my video\n",
    "text = ['test']\n",
    "y.update(id = eric_ids[0], key = 'tags', content = text, cms_usage = True)"
   ]
  },
  {
   "cell_type": "code",
   "execution_count": 10,
   "id": "0e1648bd",
   "metadata": {
    "scrolled": true
   },
   "outputs": [
    {
     "data": {
      "text/plain": [
       "{'kind': 'youtube#video',\n",
       " 'etag': 'qYuvzisBzJHioxHnHsYPhRq2myw',\n",
       " 'id': 'h0LsUgEJS1Q',\n",
       " 'snippet': {'publishedAt': '2020-11-20T16:17:29Z',\n",
       "  'channelId': 'UCpgownWu-J3Td_QZ1nQBtpg',\n",
       "  'title': '2110 Final Presentation | Team 2',\n",
       "  'description': \"Team 1's Final Presentation covering our robots progress throughout the semester and technical details.\",\n",
       "  'thumbnails': {'default': {'url': 'https://i.ytimg.com/vi/h0LsUgEJS1Q/default.jpg',\n",
       "    'width': 120,\n",
       "    'height': 90},\n",
       "   'medium': {'url': 'https://i.ytimg.com/vi/h0LsUgEJS1Q/mqdefault.jpg',\n",
       "    'width': 320,\n",
       "    'height': 180},\n",
       "   'high': {'url': 'https://i.ytimg.com/vi/h0LsUgEJS1Q/hqdefault.jpg',\n",
       "    'width': 480,\n",
       "    'height': 360},\n",
       "   'standard': {'url': 'https://i.ytimg.com/vi/h0LsUgEJS1Q/sddefault.jpg',\n",
       "    'width': 640,\n",
       "    'height': 480},\n",
       "   'maxres': {'url': 'https://i.ytimg.com/vi/h0LsUgEJS1Q/maxresdefault.jpg',\n",
       "    'width': 1280,\n",
       "    'height': 720}},\n",
       "  'channelTitle': 'Eric Abel',\n",
       "  'tags': ['test'],\n",
       "  'categoryId': '10',\n",
       "  'liveBroadcastContent': 'none',\n",
       "  'localized': {'title': '2110 Final Presentation | Team 2',\n",
       "   'description': \"Team 1's Final Presentation covering our robots progress throughout the semester and technical details.\"},\n",
       "  'defaultAudioLanguage': 'en-US'}}"
      ]
     },
     "execution_count": 10,
     "metadata": {},
     "output_type": "execute_result"
    }
   ],
   "source": [
    "#get_all shows that tags have been updated accordingly\n",
    "y.get_all(id = eric_ids[0])"
   ]
  },
  {
   "cell_type": "code",
   "execution_count": null,
   "id": "a25e1467",
   "metadata": {},
   "outputs": [],
   "source": []
  }
 ],
 "metadata": {
  "kernelspec": {
   "display_name": "Python 3 (ipykernel)",
   "language": "python",
   "name": "python3"
  },
  "language_info": {
   "codemirror_mode": {
    "name": "ipython",
    "version": 3
   },
   "file_extension": ".py",
   "mimetype": "text/x-python",
   "name": "python",
   "nbconvert_exporter": "python",
   "pygments_lexer": "ipython3",
   "version": "3.9.12"
  }
 },
 "nbformat": 4,
 "nbformat_minor": 5
}
